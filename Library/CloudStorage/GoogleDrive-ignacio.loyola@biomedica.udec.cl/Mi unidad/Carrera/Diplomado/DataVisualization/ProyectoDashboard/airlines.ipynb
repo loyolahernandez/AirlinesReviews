{
 "cells": [
  {
   "cell_type": "markdown",
   "metadata": {},
   "source": [
    "# Proyecto Dashboard\n",
    "## Diplomado en Ciencia de Datos, Analitica de Datos, UdeC.\n",
    "### Ignacio Loyola, Yamira Roa"
   ]
  },
  {
   "cell_type": "markdown",
   "metadata": {},
   "source": [
    "El proyecto consiste en desarrollar un Dashboard, que integre un conjunto de visualizaciones significativo en el dominio o ámbito de un dataset a elegir. El proyecto será desarrollado en equipos de 3 integrantes. \n",
    "\n",
    "Los aspectos a evaluar serán los siguientes:\n",
    "\n",
    "Objetivo de la visualización (15 puntos): debe estar explícitamente incluido en la visualización. Todos los componentes de la visualización deberán contribuir a dicho objetivo, lo que puede ser reforzado con texto explicativo. El objetivo incluirá una descripción de potenciales usuarios y contexto de uso.\n",
    "Pertinencia y corrección del Dashboard (40 puntos): el Dashboard y sus componentes, junto con estar correctamente implementados, deberán responder al objetivo específico que se anuncia (ej: a continuación, mostramos la evolución en el tiempo de esta variable => lineplot, o vemos cómo se corresponde esta variable con esta otra => scatter o bubbleplot). Mínimo 5 gráficos, máximo 8 (*)\n",
    "Uso de color y texto (15 puntos): en cada gráfica o visualización componente, el uso de títulos, etiquetas, textos descriptivos y colores, debe ser concordante con los objetivos descritos.\n",
    "Organización y coherencia (10 puntos): las visualizaciones deben organizarse significativamente en la pantalla, y ser coherentes o complementarias entre sí. El usuario debe entender cada una de las visualizaciones y su orden de presentación.\n",
    "Presentación y demostración (20 puntos): el diseño y ejecución del dashboard debe ser presentado. Se evaluarán los aspectos anteriores en una exposición de no más de 15 minutos, más las respuestas y participación en un periodo de consultas y discusión de 10 minutos. "
   ]
  },
  {
   "cell_type": "markdown",
   "metadata": {},
   "source": [
    "# Requerimientos"
   ]
  },
  {
   "cell_type": "code",
   "execution_count": 1,
   "metadata": {},
   "outputs": [],
   "source": [
    "import pandas as pd"
   ]
  },
  {
   "cell_type": "markdown",
   "metadata": {},
   "source": [
    "# Carga de la Data"
   ]
  },
  {
   "cell_type": "code",
   "execution_count": 2,
   "metadata": {},
   "outputs": [],
   "source": [
    "data = pd.read_csv('Airlines Reviews and Rating.csv')"
   ]
  },
  {
   "cell_type": "markdown",
   "metadata": {},
   "source": [
    "# Análisis exploratorio"
   ]
  },
  {
   "cell_type": "code",
   "execution_count": 5,
   "metadata": {},
   "outputs": [
    {
     "data": {
      "text/html": [
       "<div>\n",
       "<style scoped>\n",
       "    .dataframe tbody tr th:only-of-type {\n",
       "        vertical-align: middle;\n",
       "    }\n",
       "\n",
       "    .dataframe tbody tr th {\n",
       "        vertical-align: top;\n",
       "    }\n",
       "\n",
       "    .dataframe thead th {\n",
       "        text-align: right;\n",
       "    }\n",
       "</style>\n",
       "<table border=\"1\" class=\"dataframe\">\n",
       "  <thead>\n",
       "    <tr style=\"text-align: right;\">\n",
       "      <th></th>\n",
       "      <th>Aircraft Type</th>\n",
       "      <th>Users Reviews</th>\n",
       "      <th>Country</th>\n",
       "      <th>Type_of_Travellers</th>\n",
       "      <th>Route</th>\n",
       "      <th>Seat_Types</th>\n",
       "      <th>Seat Comfort</th>\n",
       "      <th>Date Flown</th>\n",
       "      <th>Cabin Staff Service</th>\n",
       "      <th>Ground Service</th>\n",
       "      <th>Food &amp; Beverages</th>\n",
       "      <th>Wifi &amp; Connectivity</th>\n",
       "      <th>Inflight Entertainment</th>\n",
       "      <th>Value For Money</th>\n",
       "      <th>Recommended</th>\n",
       "    </tr>\n",
       "  </thead>\n",
       "  <tbody>\n",
       "    <tr>\n",
       "      <th>0</th>\n",
       "      <td>NaN</td>\n",
       "      <td>✅Trip Verified|  Cancelled our flight last-min...</td>\n",
       "      <td>United Kingdom</td>\n",
       "      <td>Couple Leisure</td>\n",
       "      <td>London Heathrow to Tokyo</td>\n",
       "      <td>Economy Class</td>\n",
       "      <td>1.0</td>\n",
       "      <td>Sep-23</td>\n",
       "      <td>1.0</td>\n",
       "      <td>2.0</td>\n",
       "      <td>1.0</td>\n",
       "      <td>NaN</td>\n",
       "      <td>3.0</td>\n",
       "      <td>1</td>\n",
       "      <td>no</td>\n",
       "    </tr>\n",
       "    <tr>\n",
       "      <th>1</th>\n",
       "      <td>NaN</td>\n",
       "      <td>✅Trip Verified| I had a flight from Miami, Flo...</td>\n",
       "      <td>United States</td>\n",
       "      <td>Solo Leisure</td>\n",
       "      <td>Miami to Dublin via London Heathrow</td>\n",
       "      <td>Business Class</td>\n",
       "      <td>1.0</td>\n",
       "      <td>Aug-23</td>\n",
       "      <td>3.0</td>\n",
       "      <td>1.0</td>\n",
       "      <td>2.0</td>\n",
       "      <td>1.0</td>\n",
       "      <td>1.0</td>\n",
       "      <td>1</td>\n",
       "      <td>no</td>\n",
       "    </tr>\n",
       "  </tbody>\n",
       "</table>\n",
       "</div>"
      ],
      "text/plain": [
       "  Aircraft Type                                      Users Reviews  \\\n",
       "0           NaN  ✅Trip Verified|  Cancelled our flight last-min...   \n",
       "1           NaN  ✅Trip Verified| I had a flight from Miami, Flo...   \n",
       "\n",
       "          Country Type_of_Travellers                                Route  \\\n",
       "0  United Kingdom     Couple Leisure             London Heathrow to Tokyo   \n",
       "1   United States       Solo Leisure  Miami to Dublin via London Heathrow   \n",
       "\n",
       "       Seat_Types  Seat Comfort Date Flown  Cabin Staff Service  \\\n",
       "0   Economy Class           1.0     Sep-23                  1.0   \n",
       "1  Business Class           1.0     Aug-23                  3.0   \n",
       "\n",
       "   Ground Service  Food & Beverages  Wifi & Connectivity  \\\n",
       "0             2.0               1.0                  NaN   \n",
       "1             1.0               2.0                  1.0   \n",
       "\n",
       "   Inflight Entertainment  Value For Money Recommended  \n",
       "0                     3.0                1          no  \n",
       "1                     1.0                1          no  "
      ]
     },
     "execution_count": 5,
     "metadata": {},
     "output_type": "execute_result"
    }
   ],
   "source": [
    "data.head(2)"
   ]
  },
  {
   "cell_type": "code",
   "execution_count": 8,
   "metadata": {},
   "outputs": [
    {
     "data": {
      "text/plain": [
       "Aircraft Type              object\n",
       "Users Reviews              object\n",
       "Country                    object\n",
       "Type_of_Travellers         object\n",
       "Route                      object\n",
       "Seat_Types                 object\n",
       "Seat Comfort              float64\n",
       "Date Flown                 object\n",
       "Cabin Staff Service       float64\n",
       "Ground Service            float64\n",
       "Food & Beverages          float64\n",
       "Wifi & Connectivity       float64\n",
       "Inflight Entertainment    float64\n",
       "Value For Money             int64\n",
       "Recommended                object\n",
       "dtype: object"
      ]
     },
     "execution_count": 8,
     "metadata": {},
     "output_type": "execute_result"
    }
   ],
   "source": [
    "data.dtypes"
   ]
  },
  {
   "cell_type": "code",
   "execution_count": 15,
   "metadata": {},
   "outputs": [
    {
     "name": "stdout",
     "output_type": "stream",
     "text": [
      "['United Kingdom' 'United States' 'France' 'Germany' 'Switzerland'\n",
      " 'South Africa' 'Canada' 'Kuwait' 'Iceland' 'Australia' 'Denmark' 'Poland'\n",
      " 'Hong Kong' 'Qatar' 'Spain' 'Greece' 'Italy' 'Senegal'\n",
      " 'United Arab Emirates' 'Romania' 'Cyprus' 'Chile' 'Sweden' 'Ireland'\n",
      " 'Netherlands' 'Austria' 'India' 'Belgium' 'New Zealand' 'Czech Republic'\n",
      " 'Malaysia' 'Singapore' 'Ghana' 'Bermuda' 'Botswana' 'Brazil' 'Panama'\n",
      " 'Nigeria' 'Russian Federation' 'Philippines' 'Bulgaria' 'Thailand'\n",
      " 'Argentina' 'Mexico' 'Saint Kitts and Nevis' 'Vietnam' 'Norway' 'Jordan'\n",
      " 'Japan' 'Taiwan' 'China' 'Slovakia' 'Israel' 'South Korea' 'Saudi Arabia'\n",
      " 'Hungary' 'Portugal' 'Cayman Islands' 'Costa Rica' 'Egypt' 'Laos'\n",
      " 'Turkey' 'Indonesia' 'Bahrain' 'Dominican Republic' 'Luxembourg'\n",
      " 'Finland' 'Ukraine' nan]\n",
      "\n",
      " Numero de paises: 69\n"
     ]
    }
   ],
   "source": [
    "print(data.Country.unique())\n",
    "print(f'\\n Numero de paises: {len(data.Country.unique())}')"
   ]
  },
  {
   "cell_type": "code",
   "execution_count": 16,
   "metadata": {},
   "outputs": [
    {
     "data": {
      "text/plain": [
       "array(['Economy Class', 'Business Class', 'Premium Economy',\n",
       "       'First Class', nan], dtype=object)"
      ]
     },
     "execution_count": 16,
     "metadata": {},
     "output_type": "execute_result"
    }
   ],
   "source": [
    "data.Seat_Types.unique()"
   ]
  },
  {
   "cell_type": "code",
   "execution_count": 17,
   "metadata": {},
   "outputs": [
    {
     "data": {
      "text/html": [
       "<div>\n",
       "<style scoped>\n",
       "    .dataframe tbody tr th:only-of-type {\n",
       "        vertical-align: middle;\n",
       "    }\n",
       "\n",
       "    .dataframe tbody tr th {\n",
       "        vertical-align: top;\n",
       "    }\n",
       "\n",
       "    .dataframe thead th {\n",
       "        text-align: right;\n",
       "    }\n",
       "</style>\n",
       "<table border=\"1\" class=\"dataframe\">\n",
       "  <thead>\n",
       "    <tr style=\"text-align: right;\">\n",
       "      <th></th>\n",
       "      <th>Seat Comfort</th>\n",
       "      <th>Cabin Staff Service</th>\n",
       "      <th>Ground Service</th>\n",
       "      <th>Food &amp; Beverages</th>\n",
       "      <th>Wifi &amp; Connectivity</th>\n",
       "      <th>Inflight Entertainment</th>\n",
       "      <th>Value For Money</th>\n",
       "    </tr>\n",
       "  </thead>\n",
       "  <tbody>\n",
       "    <tr>\n",
       "      <th>count</th>\n",
       "      <td>3176.000000</td>\n",
       "      <td>3165.000000</td>\n",
       "      <td>2812.000000</td>\n",
       "      <td>2911.000000</td>\n",
       "      <td>592.000000</td>\n",
       "      <td>2171.000000</td>\n",
       "      <td>3290.000000</td>\n",
       "    </tr>\n",
       "    <tr>\n",
       "      <th>mean</th>\n",
       "      <td>2.833123</td>\n",
       "      <td>3.228752</td>\n",
       "      <td>2.795519</td>\n",
       "      <td>2.678461</td>\n",
       "      <td>1.923986</td>\n",
       "      <td>2.654537</td>\n",
       "      <td>2.636474</td>\n",
       "    </tr>\n",
       "    <tr>\n",
       "      <th>std</th>\n",
       "      <td>1.360588</td>\n",
       "      <td>1.486388</td>\n",
       "      <td>1.455301</td>\n",
       "      <td>1.435562</td>\n",
       "      <td>1.355305</td>\n",
       "      <td>1.386722</td>\n",
       "      <td>1.459832</td>\n",
       "    </tr>\n",
       "    <tr>\n",
       "      <th>min</th>\n",
       "      <td>1.000000</td>\n",
       "      <td>1.000000</td>\n",
       "      <td>1.000000</td>\n",
       "      <td>0.000000</td>\n",
       "      <td>1.000000</td>\n",
       "      <td>0.000000</td>\n",
       "      <td>1.000000</td>\n",
       "    </tr>\n",
       "    <tr>\n",
       "      <th>25%</th>\n",
       "      <td>2.000000</td>\n",
       "      <td>2.000000</td>\n",
       "      <td>1.000000</td>\n",
       "      <td>1.000000</td>\n",
       "      <td>1.000000</td>\n",
       "      <td>1.000000</td>\n",
       "      <td>1.000000</td>\n",
       "    </tr>\n",
       "    <tr>\n",
       "      <th>50%</th>\n",
       "      <td>3.000000</td>\n",
       "      <td>3.000000</td>\n",
       "      <td>3.000000</td>\n",
       "      <td>3.000000</td>\n",
       "      <td>1.000000</td>\n",
       "      <td>3.000000</td>\n",
       "      <td>3.000000</td>\n",
       "    </tr>\n",
       "    <tr>\n",
       "      <th>75%</th>\n",
       "      <td>4.000000</td>\n",
       "      <td>5.000000</td>\n",
       "      <td>4.000000</td>\n",
       "      <td>4.000000</td>\n",
       "      <td>3.000000</td>\n",
       "      <td>4.000000</td>\n",
       "      <td>4.000000</td>\n",
       "    </tr>\n",
       "    <tr>\n",
       "      <th>max</th>\n",
       "      <td>5.000000</td>\n",
       "      <td>5.000000</td>\n",
       "      <td>5.000000</td>\n",
       "      <td>5.000000</td>\n",
       "      <td>5.000000</td>\n",
       "      <td>5.000000</td>\n",
       "      <td>5.000000</td>\n",
       "    </tr>\n",
       "  </tbody>\n",
       "</table>\n",
       "</div>"
      ],
      "text/plain": [
       "       Seat Comfort  Cabin Staff Service  Ground Service  Food & Beverages  \\\n",
       "count   3176.000000          3165.000000     2812.000000       2911.000000   \n",
       "mean       2.833123             3.228752        2.795519          2.678461   \n",
       "std        1.360588             1.486388        1.455301          1.435562   \n",
       "min        1.000000             1.000000        1.000000          0.000000   \n",
       "25%        2.000000             2.000000        1.000000          1.000000   \n",
       "50%        3.000000             3.000000        3.000000          3.000000   \n",
       "75%        4.000000             5.000000        4.000000          4.000000   \n",
       "max        5.000000             5.000000        5.000000          5.000000   \n",
       "\n",
       "       Wifi & Connectivity  Inflight Entertainment  Value For Money  \n",
       "count           592.000000             2171.000000      3290.000000  \n",
       "mean              1.923986                2.654537         2.636474  \n",
       "std               1.355305                1.386722         1.459832  \n",
       "min               1.000000                0.000000         1.000000  \n",
       "25%               1.000000                1.000000         1.000000  \n",
       "50%               1.000000                3.000000         3.000000  \n",
       "75%               3.000000                4.000000         4.000000  \n",
       "max               5.000000                5.000000         5.000000  "
      ]
     },
     "execution_count": 17,
     "metadata": {},
     "output_type": "execute_result"
    }
   ],
   "source": [
    "data.describe()"
   ]
  },
  {
   "cell_type": "code",
   "execution_count": null,
   "metadata": {},
   "outputs": [],
   "source": []
  }
 ],
 "metadata": {
  "kernelspec": {
   "display_name": "Python 3",
   "language": "python",
   "name": "python3"
  },
  "language_info": {
   "codemirror_mode": {
    "name": "ipython",
    "version": 3
   },
   "file_extension": ".py",
   "mimetype": "text/x-python",
   "name": "python",
   "nbconvert_exporter": "python",
   "pygments_lexer": "ipython3",
   "version": "3.12.2"
  }
 },
 "nbformat": 4,
 "nbformat_minor": 2
}
